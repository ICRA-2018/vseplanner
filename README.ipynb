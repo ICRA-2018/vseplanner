{
 "cells": [
  {
   "cell_type": "markdown",
   "metadata": {},
   "source": [
    "# vseplanner\n",
    "The repo aims to provide a planning algorithm and relevant packages to enable a saliency--aware autonomous exploration task for aerial robots.\n",
    "# How to build the planner\n",
    "Create a new catkin workspace and clone all modules into that workspace."
   ]
  },
  {
   "cell_type": "code",
   "execution_count": null,
   "metadata": {},
   "outputs": [],
   "source": [
    "mkdir vsep_ws && cd vsep_ws && mkdir src && cd src\n",
    "git clone https://github.com/unr-arl/vseplanner\n",
    "git submodule update --init --recursive\n",
    "cd ..\n",
    "catkin config -DCMAKE_BUILD_TYPE=Release\n",
    "catkin build"
   ]
  },
  {
   "cell_type": "markdown",
   "metadata": {},
   "source": [
    "We tested this repo with ROS Jade on Ubuntu 14.04, update for newer versions like ROS Kinetic will come soon.\n",
    "# To run the algorithm in the Gazebo simulation environment\n",
    "First, unzip the gazebo_models.zip in the planner folder into the ./gazebo folder:"
   ]
  },
  {
   "cell_type": "code",
   "execution_count": null,
   "metadata": {},
   "outputs": [],
   "source": [
    "unzip gazebo_models.zip && mv gallery_plane gallery_wall painting_wall ~/.gazebo/models"
   ]
  },
  {
   "cell_type": "markdown",
   "metadata": {},
   "source": [
    "Then, launch the simulation file:"
   ]
  },
  {
   "cell_type": "code",
   "execution_count": null,
   "metadata": {},
   "outputs": [],
   "source": [
    "roslaunch ./src/launch/sim_vsep.launch"
   ]
  },
  {
   "cell_type": "markdown",
   "metadata": {},
   "source": [
    "# Test with real datasets\n",
    "We provided here [two datasets](https://drive.google.com/drive/folders/1tOGKk9jRMvzSVDGSbXiYpckpUN9rcgy8?usp=sharing) recored onboard of a MAV. (More details are explained [here](https://github.com/unr-arl/vsep-datasets)). To test the planner, please run the rosbags as well as launching a file:"
   ]
  },
  {
   "cell_type": "code",
   "execution_count": null,
   "metadata": {},
   "outputs": [],
   "source": [
    "rosbag play VSEP_Arena.bag --clock\n",
    "roslaunch ./src/launch/mav_vsep_arena_offline.launch"
   ]
  },
  {
   "cell_type": "markdown",
   "metadata": {},
   "source": [
    "and use a ros service command shown as below to trigger the planner."
   ]
  },
  {
   "cell_type": "code",
   "execution_count": null,
   "metadata": {},
   "outputs": [],
   "source": [
    "rosservice call /vseplanner '{header: {stamp: now, frame_id: world}}'"
   ]
  },
  {
   "cell_type": "markdown",
   "metadata": {},
   "source": [
    "If you use this software in a scientific publication, please cite the following paper:"
   ]
  },
  {
   "cell_type": "code",
   "execution_count": null,
   "metadata": {},
   "outputs": [],
   "source": [
    "@inproceedings{tung2018vsep,\n",
    "  title={Visual Saliency-aware Receding Horizon Autonomous Exploration with Application to Aerial Robotics},\n",
    "  author={Dang, Tung and Papachristos, Christos and Alexis, Kostas},\n",
    "  booktitle={2018 IEEE International Conference on Robotics and Automation (ICRA)},\n",
    "  pages={to appear},\n",
    "  year={2018},\n",
    "  organization={IEEE}\n",
    "}"
   ]
  },
  {
   "cell_type": "markdown",
   "metadata": {},
   "source": [
    "# Contact\n",
    "\n",
    "You can contact us for any question or remark:\n",
    "* [Tung Dang](mailto:tung.dang@nevada.unr.edu)\n",
    "* [Christos Papachristos](mailto:cpapachristos@unr.edu)\n",
    "* [Kostas Alexis](mailto:kalexis@unr.edu)"
   ]
  }
 ],

 "metadata": {
  "kernelspec": {
   "display_name": "Bash",
   "language": "bash",
   "name": "bash"
  },
  "language_info": {
   "codemirror_mode": "shell",
   "file_extension": ".sh",
   "mimetype": "text/x-sh",
   "name": "bash"
  }
 },
 "nbformat": 4,
 "nbformat_minor": 2
}
